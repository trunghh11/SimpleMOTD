{
 "cells": [
  {
   "cell_type": "code",
   "execution_count": 32,
   "id": "53efca2c",
   "metadata": {},
   "outputs": [],
   "source": [
    "import pickle\n",
    "import gzip\n",
    "import json\n",
    "from glob import glob\n",
    "\n",
    "def load_json(filename):\n",
    "    with open(filename,mode=\"r\") as f:\n",
    "        return json.load(f)\n",
    "\n",
    "def save_json(data,filename):\n",
    "    with open(filename, mode=\"w\") as f:\n",
    "        json.dump(data,f)\n",
    "    return\n",
    "\n",
    "with gzip.open(\"object_color34_dict.pickle\", 'r') as f:\n",
    "    meta_dict = pickle.load(f)"
   ]
  },
  {
   "cell_type": "code",
   "execution_count": 33,
   "id": "b984db95",
   "metadata": {
    "scrolled": true
   },
   "outputs": [],
   "source": [
    "f_devtest=\"simmc2_dials_dstc10_devtest.json\"\n",
    "f_dev=\"simmc2_dials_dstc10_dev.json\"\n",
    "f_train=\"simmc2_dials_dstc10_train.json\"\n",
    "files = [f_devtest,f_dev,f_train]\n",
    "\n",
    "f_furn_meta=\"furniture_prefab_metadata_all.json\"\n",
    "f_fash_meta=\"fashion_prefab_metadata_all.json\"\n",
    "meta_files=[f_furn_meta,f_fash_meta]\n",
    "\n",
    "dialogue_data=[]\n",
    "for f in files:\n",
    "    dialogue_data.extend(load_json(f)[\"dialogue_data\"])\n",
    "    \n",
    "true_meta_dict={}\n",
    "for f in meta_files:\n",
    "    true_meta_dict.update(load_json(f))\n",
    "    \n",
    "# Get scene files (bbox + relationship)\n",
    "scene_folder = \"/home/nlplab9/Desktop/youngjae/youngjae/data/simmc2_scene_jsons_dstc10_public\"\n",
    "scene_list = sorted(glob(str(scene_folder + \"/*_scene.json\")))"
   ]
  },
  {
   "cell_type": "code",
   "execution_count": 34,
   "id": "c8488d80",
   "metadata": {},
   "outputs": [],
   "source": [
    "def get_scene_objs(scene_name):\n",
    "    matching = [s for s in scene_list if scene_name+\"_scene.json\" == s.split(\"/\")[-1]]\n",
    "    return load_json(matching[0])[\"scenes\"][0][\"objects\"]"
   ]
  },
  {
   "cell_type": "code",
   "execution_count": 35,
   "id": "eaacca3d",
   "metadata": {},
   "outputs": [],
   "source": [
    "def get_color_objects(scene_name,idx_list):\n",
    "    try:\n",
    "        scene_objects=get_scene_objs(scene_name)\n",
    "    except:\n",
    "        print(scene_name)\n",
    "        input()    \n",
    "    objects={}\n",
    "    for idx in idx_list:\n",
    "        obj=[x for x in scene_objects if x['index'] == idx]\n",
    "        if obj:\n",
    "            obj=obj[0]\n",
    "            try:\n",
    "#                 objects[idx]=true_meta_dict[obj[\"prefab_path\"]][\"color\"]\n",
    "                # if color\n",
    "                if len(true_meta_dict[obj[\"prefab_path\"]][\"color\"].split(\",\"))==1:\n",
    "                    objects[idx]=true_meta_dict[obj[\"prefab_path\"]][\"color\"]\n",
    "                else:\n",
    "                    objects[idx]=\"none\"\n",
    "            except:\n",
    "#                 print(true_meta_dict[obj[\"prefab_path\"]])\n",
    "                objects[idx]=\"none\"\n",
    "                \n",
    "    return objects"
   ]
  },
  {
   "cell_type": "code",
   "execution_count": 36,
   "id": "0e4ea8d7",
   "metadata": {},
   "outputs": [],
   "source": [
    "def get_type_objects(scene_name,idx_list):\n",
    "    scene_objects=get_scene_objs(scene_name)\n",
    "    objects={}\n",
    "    for idx in idx_list:\n",
    "        obj=[x for x in scene_objects if x['index'] == idx]\n",
    "        if obj:\n",
    "            obj=obj[0]\n",
    "            try:\n",
    "                objects[idx]=true_meta_dict[obj[\"prefab_path\"]][\"type\"]\n",
    "#                 # if color\n",
    "#                 if len(true_meta_dict[obj[\"prefab_path\"]][\"color\"].split(\",\"))==1:\n",
    "#                     objects[idx]=true_meta_dict[obj[\"prefab_path\"]][\"color\"]\n",
    "#                 else:\n",
    "#                     objects[idx]=\"none\"\n",
    "            except:\n",
    "#                 print(true_meta_dict[obj[\"prefab_path\"]])\n",
    "                objects[idx]=\"none\"\n",
    "                \n",
    "    return objects"
   ]
  },
  {
   "cell_type": "code",
   "execution_count": 37,
   "id": "86f3a3be",
   "metadata": {},
   "outputs": [],
   "source": [
    "def get_patmat_objects(scene_name,idx_list):\n",
    "    scene_objects=get_scene_objs(scene_name)\n",
    "    objects={}\n",
    "    for idx in idx_list:\n",
    "        obj=[x for x in scene_objects if x['index'] == idx]\n",
    "        if obj:\n",
    "            obj=obj[0]\n",
    "            try:\n",
    "                if \"pattern\" in true_meta_dict[obj[\"prefab_path\"]].keys():\n",
    "                    objects[idx]=true_meta_dict[obj[\"prefab_path\"]][\"pattern\"]\n",
    "                else:\n",
    "                    objects[idx]=true_meta_dict[obj[\"prefab_path\"]][\"material\"]\n",
    "\n",
    "            except:\n",
    "#                 print(true_meta_dict[obj[\"prefab_path\"]])\n",
    "                objects[idx]=\"none\"\n",
    "                \n",
    "    return objects"
   ]
  },
  {
   "cell_type": "code",
   "execution_count": 38,
   "id": "1c4147f8",
   "metadata": {},
   "outputs": [
    {
     "data": {
      "text/plain": [
       "dict_keys(['dialogue', 'dialogue_idx', 'domain', 'mentioned_object_ids', 'scene_ids'])"
      ]
     },
     "execution_count": 38,
     "metadata": {},
     "output_type": "execute_result"
    }
   ],
   "source": [
    "dialogue_data[0].keys()"
   ]
  },
  {
   "cell_type": "code",
   "execution_count": 60,
   "id": "f79d57aa",
   "metadata": {
    "scrolled": true
   },
   "outputs": [],
   "source": [
    "n_correct_color_obj = 0\n",
    "n_predict_color_obj = 0\n",
    "n_total_color_obj = 0\n",
    "n_correct_type_obj = 0\n",
    "n_predict_type_obj = 0\n",
    "n_total_type_obj = 0\n",
    "n_correct_patmat_obj = 0\n",
    "n_predict_patmat_obj = 0\n",
    "n_total_patmat_obj = 0\n",
    "\n",
    "color_score_dict={}\n",
    "patmat_score_dict={}\n",
    "type_score_dict={}\n",
    "\n",
    "color_total_dict={}\n",
    "patmat_total_dict={}\n",
    "type_total_dict={}\n",
    "\n",
    "import collections\n",
    "from collections import defaultdict\n",
    "nested_dict = lambda: defaultdict(nested_dict)\n",
    "color_comp_dict = nested_dict()\n",
    "\n",
    "for d in dialogue_data:\n",
    "    scenes = d[\"scene_ids\"].values()\n",
    "    for t in d[\"dialogue\"]:\n",
    "        idx_list =  t[\"system_transcript_annotated\"][\"act_attributes\"][\"objects\"]\n",
    "        turn_color_objects={}\n",
    "        turn_type_objects={}\n",
    "        turn_patmat_objects={}        \n",
    "        for s in scenes:\n",
    "            turn_color_objects.update(get_color_objects(s,idx_list))\n",
    "            turn_type_objects.update(get_type_objects(s,idx_list))\n",
    "            turn_patmat_objects.update(get_patmat_objects(s,idx_list))\n",
    "        pred_turn_objects={}\n",
    "        for s in scenes:\n",
    "            pred_turn_objects.update(meta_dict[s])\n",
    "# \n",
    "        # 0: type\n",
    "        # 1: pattern material\n",
    "        # 2: color\n",
    "        for idx in idx_list:\n",
    "            if pred_turn_objects[idx]:\n",
    "                n_predict_type_obj += 1\n",
    "                n_predict_color_obj += 1\n",
    "                n_predict_patmat_obj += 1\n",
    "\n",
    "            if turn_color_objects[idx]!=\"none\":\n",
    "                n_total_color_obj+=1\n",
    "                if turn_color_objects[idx] not in color_total_dict:\n",
    "                    color_total_dict[turn_color_objects[idx]]=0\n",
    "                color_total_dict[turn_color_objects[idx]]+=1\n",
    "#                 print(isinstance(color_comp_dict[turn_color_objects[idx]][pred_turn_objects[idx][2]],collections.defaultdict))\n",
    "                if pred_turn_objects[idx] and isinstance(color_comp_dict[pred_turn_objects[idx][2]][turn_color_objects[idx]],collections.defaultdict):\n",
    "                    color_comp_dict[pred_turn_objects[idx][2]][turn_color_objects[idx]]=0\n",
    "                if pred_turn_objects[idx]:\n",
    "                    color_comp_dict[pred_turn_objects[idx][2]][turn_color_objects[idx]]+=1\n",
    "                if pred_turn_objects[idx] and turn_color_objects[idx]==pred_turn_objects[idx][2]:\n",
    "                    n_correct_color_obj+=1\n",
    "                    if turn_color_objects[idx] not in color_score_dict:\n",
    "                        color_score_dict[turn_color_objects[idx]]=0\n",
    "                    color_score_dict[turn_color_objects[idx]]+=1                    \n",
    "                    \n",
    "#             if turn_type_objects[idx]!=\"none\":\n",
    "#                 n_total_type_obj+=1\n",
    "#                 if turn_type_objects[idx] not in type_total_dict:\n",
    "#                     type_total_dict[turn_type_objects[idx]]=0\n",
    "#                 type_total_dict[turn_type_objects[idx]]+=1                \n",
    "#                 if pred_turn_objects[idx] and turn_type_objects[idx]==pred_turn_objects[idx][0]:\n",
    "#                     n_correct_type_obj+=1\n",
    "#                     if turn_type_objects[idx] not in type_score_dict:\n",
    "#                         type_score_dict[turn_type_objects[idx]]=0\n",
    "#                     type_score_dict[turn_type_objects[idx]]+=1                            \n",
    "                    \n",
    "#             if turn_patmat_objects[idx]!=\"none\":\n",
    "#                 n_total_patmat_obj+=1\n",
    "#                 if turn_patmat_objects[idx] not in patmat_total_dict:\n",
    "#                     patmat_total_dict[turn_patmat_objects[idx]]=0\n",
    "#                 patmat_total_dict[turn_patmat_objects[idx]]+=1                 \n",
    "#                 if pred_turn_objects[idx] and turn_patmat_objects[idx]==pred_turn_objects[idx][1]:\n",
    "#                     n_correct_patmat_obj+=1      \n",
    "#                     if turn_patmat_objects[idx] not in patmat_score_dict:\n",
    "#                         patmat_score_dict[turn_patmat_objects[idx]]=0\n",
    "#                     patmat_score_dict[turn_patmat_objects[idx]]+=1       "
   ]
  },
  {
   "cell_type": "code",
   "execution_count": 63,
   "id": "0e063625",
   "metadata": {},
   "outputs": [
    {
     "name": "stdout",
     "output_type": "stream",
     "text": [
      "grey\n",
      "[('grey', 4946), ('white', 1646), ('blue', 1023), ('brown', 976), ('black', 631), ('light grey', 300), ('wooden', 90), ('green', 76), ('dirty green', 48), ('violet', 47), ('dark grey', 42), ('black and white', 31), ('dark blue', 18), ('dark green', 14), ('light blue', 14), ('dirty grey', 13), ('light red', 6), ('yellow', 6), ('olive', 6), ('purple', 4)]\n",
      "purple\n",
      "[('purple', 578), ('pink', 360), ('maroon', 267), ('dark pink', 101), ('brown', 78), ('dark red', 76), ('grey', 72), ('black', 63), ('violet', 54), ('red', 23), ('olive', 22), ('beige', 17), ('blue', 16), ('light pink', 11), ('dark brown', 10), ('yellow', 10), ('light grey', 9), ('dark grey', 5), ('green', 4), ('dark blue', 2), ('white', 2)]\n",
      "blue\n",
      "[('brown', 3065), ('grey', 2857), ('black', 2609), ('blue', 2148), ('white', 1330), ('light grey', 746), ('wooden', 280), ('dark blue', 267), ('red', 261), ('green', 239), ('yellow', 158), ('beige', 155), ('light blue', 131), ('violet', 112), ('dark grey', 109), ('dark green', 96), ('golden', 71), ('olive', 41), ('dark yellow', 30), ('dirty green', 21), ('purple', 20), ('light red', 19), ('maroon', 16), ('dark brown', 10), ('light orange', 10), ('pink', 3), ('dirty grey', 2), ('dark red', 2)]\n",
      "black\n",
      "[('black', 5111), ('wooden', 849), ('brown', 814), ('grey', 631), ('blue', 430), ('white', 171), ('black and white', 167), ('light grey', 157), ('green', 69), ('pink', 36), ('purple', 26), ('yellow', 22), ('violet', 15), ('red', 9), ('olive', 8), ('maroon', 7), ('dark green', 4), ('beige', 3), ('dark blue', 1), ('dark red', 1), ('dark grey', 1)]\n",
      "brown\n",
      "[('blue', 475), ('dark green', 318), ('dark blue', 264), ('violet', 217), ('dirty green', 77), ('black', 51), ('brown', 51), ('grey', 46), ('purple', 26), ('dark grey', 23), ('dark violet', 22), ('beige', 22), ('olive', 13), ('red', 13), ('light grey', 12), ('white', 9), ('pink', 7), ('green', 4), ('light blue', 3), ('dark yellow', 3)]\n",
      "violet\n",
      "[('red', 542), ('black', 520), ('brown', 499), ('maroon', 340), ('pink', 182), ('grey', 149), ('dark brown', 129), ('blue', 102), ('beige', 94), ('purple', 84), ('dark grey', 59), ('light grey', 52), ('violet', 51), ('light orange', 35), ('yellow', 32), ('green', 29), ('golden', 25), ('white', 23), ('dark blue', 22), ('orange', 21), ('light pink', 21), ('dark red', 16), ('dark pink', 10), ('light red', 9), ('dirty grey', 7), ('dark yellow', 4), ('dark green', 3)]\n",
      "dark green\n",
      "[('brown', 194), ('grey', 155), ('dark green', 70), ('light grey', 35), ('beige', 31), ('blue', 26), ('black', 26), ('green', 15), ('dark grey', 5), ('yellow', 3), ('dark yellow', 1)]\n",
      "green\n",
      "[('green', 1519), ('light blue', 511), ('blue', 397), ('dark blue', 297), ('black', 88), ('brown', 46), ('grey', 37), ('olive', 15), ('light grey', 5), ('dirty green', 5), ('violet', 5), ('dark green', 3), ('white', 2), ('dark grey', 1)]\n",
      "white\n",
      "[('white', 2224), ('light grey', 760), ('brown', 565), ('wooden', 386), ('blue', 345), ('grey', 339), ('black', 85), ('green', 68), ('light red', 28), ('dark grey', 22), ('yellow', 13), ('olive', 2)]\n",
      "dark blue\n",
      "[('brown', 637), ('green', 489), ('black', 169), ('blue', 64), ('light blue', 41), ('grey', 23), ('yellow', 17), ('golden', 11), ('dark blue', 8), ('light grey', 8), ('beige', 6)]\n",
      "pink\n",
      "[('pink', 69), ('black', 67), ('purple', 41), ('violet', 23), ('grey', 6), ('light grey', 5), ('blue', 1)]\n",
      "yellow\n",
      "[('blue', 453), ('olive', 140), ('brown', 12), ('black', 10), ('grey', 8), ('beige', 5), ('violet', 3), ('light orange', 3), ('dark brown', 2), ('white', 1), ('light blue', 1)]\n",
      "dark red\n",
      "[('purple', 79), ('dark grey', 11)]\n",
      "light grey\n",
      "[('blue', 99), ('grey', 31), ('olive', 10), ('white', 9), ('violet', 6), ('light grey', 3), ('black', 2), ('brown', 2)]\n",
      "maroon\n",
      "[('violet', 53), ('dark brown', 7), ('dark violet', 4), ('purple', 4), ('grey', 2)]\n",
      "golden\n",
      "[('light blue', 67), ('blue', 33), ('dark blue', 12), ('olive', 1)]\n",
      "dark grey\n",
      "[('grey', 111), ('black', 94), ('dark grey', 49), ('brown', 31), ('violet', 27), ('dirty grey', 20), ('olive', 14), ('blue', 11), ('maroon', 8), ('light grey', 6), ('purple', 5), ('dark green', 1)]\n",
      "red\n",
      "[('red', 349)]\n",
      "beige\n",
      "[('blue', 171), ('olive', 16), ('black', 6), ('brown', 5), ('dark blue', 3)]\n",
      "light orange\n",
      "[('blue', 96)]\n",
      "wooden\n",
      "[('wooden', 793), ('brown', 215), ('white', 65), ('black', 28)]\n",
      "dirty green\n",
      "[('brown', 34), ('grey', 21), ('light grey', 3), ('blue', 3), ('green', 2)]\n",
      "olive\n",
      "[('yellow', 51), ('green', 28), ('dark yellow', 8), ('dark green', 7), ('black', 1)]\n",
      "dark pink\n",
      "[('purple', 62)]\n",
      "dirty grey\n",
      "[('dirty grey', 5), ('grey', 2), ('dark brown', 1)]\n",
      "light blue\n",
      "[('yellow', 23), ('green', 20), ('light grey', 6)]\n",
      "light red\n",
      "[('grey', 19), ('light grey', 1)]\n"
     ]
    }
   ],
   "source": [
    "color_comp_dict\n",
    "for k,v in color_comp_dict.items():\n",
    "    print(k)\n",
    "    print(sorted(v.items(),key=lambda x:-x[1]))"
   ]
  },
  {
   "cell_type": "code",
   "execution_count": 67,
   "id": "abd2d6d4",
   "metadata": {},
   "outputs": [],
   "source": [
    "pp_cand_dict = {\n",
    "    \"grey\" : [\"white\"],\n",
    "    \"blue\" : [\"grey\",\"brown\",\"black\"],\n",
    "    \"purple\" : [\"pink\"],\n",
    "    \"brown\" : [\"blue\"],\n",
    "    \"violet\" : [\"red\",\"black\"],\n",
    "    \"darkgreen\" : [\"brown\"],\n",
    "    \"darkblue\" : [\"brown\"],\n",
    "    \"yellow\" : [\"blue\"],\n",
    "    \"dark red\" : [\"purple\"],\n",
    "    \"light grey\" : [\"blue\"],\n",
    "    \"maroon\" : [\"violet\"],\n",
    "    \"golden\" : [\"light blue\"],\n",
    "    \"beige\" : [\"blue\"],\n",
    "    \"light orange\" : [\"blue\"],\n",
    "    \"dark pink\" : [\"purple\"],\n",
    "    \"light red\" : [\"grey\"]\n",
    "}"
   ]
  },
  {
   "cell_type": "code",
   "execution_count": 64,
   "id": "38b5d1e4",
   "metadata": {},
   "outputs": [
    {
     "data": {
      "text/plain": [
       "['g', 'r', 'e', 'y']"
      ]
     },
     "execution_count": 64,
     "metadata": {},
     "output_type": "execute_result"
    }
   ],
   "source": [
    "list(\"grey\")"
   ]
  },
  {
   "cell_type": "code",
   "execution_count": null,
   "id": "d0a85f72",
   "metadata": {
    "collapsed": true
   },
   "outputs": [],
   "source": []
  },
  {
   "cell_type": "code",
   "execution_count": 57,
   "id": "920e56e4",
   "metadata": {},
   "outputs": [
    {
     "name": "stdout",
     "output_type": "stream",
     "text": [
      "53345\n",
      "17974\n",
      "0\n",
      "0\n",
      "0\n",
      "0\n"
     ]
    }
   ],
   "source": [
    "print(n_total_color_obj)\n",
    "print(n_correct_color_obj)\n",
    "print(n_total_type_obj)\n",
    "print(n_correct_type_obj)\n",
    "print(n_total_patmat_obj)\n",
    "print(n_correct_patmat_obj)\n"
   ]
  },
  {
   "cell_type": "code",
   "execution_count": 58,
   "id": "40e534b7",
   "metadata": {},
   "outputs": [
    {
     "name": "stdout",
     "output_type": "stream",
     "text": [
      "0.33693879463867277\n"
     ]
    },
    {
     "ename": "ZeroDivisionError",
     "evalue": "division by zero",
     "output_type": "error",
     "traceback": [
      "\u001b[0;31m---------------------------------------------------------------------------\u001b[0m",
      "\u001b[0;31mZeroDivisionError\u001b[0m                         Traceback (most recent call last)",
      "\u001b[0;32m<ipython-input-58-f7899b35965b>\u001b[0m in \u001b[0;36m<module>\u001b[0;34m\u001b[0m\n\u001b[1;32m      1\u001b[0m \u001b[0mprint\u001b[0m\u001b[0;34m(\u001b[0m\u001b[0mn_correct_color_obj\u001b[0m\u001b[0;34m/\u001b[0m\u001b[0mn_total_color_obj\u001b[0m\u001b[0;34m)\u001b[0m\u001b[0;34m\u001b[0m\u001b[0m\n\u001b[0;32m----> 2\u001b[0;31m \u001b[0mprint\u001b[0m\u001b[0;34m(\u001b[0m\u001b[0mn_correct_type_obj\u001b[0m\u001b[0;34m/\u001b[0m\u001b[0mn_total_type_obj\u001b[0m\u001b[0;34m)\u001b[0m\u001b[0;34m\u001b[0m\u001b[0m\n\u001b[0m\u001b[1;32m      3\u001b[0m \u001b[0mprint\u001b[0m\u001b[0;34m(\u001b[0m\u001b[0mn_correct_patmat_obj\u001b[0m\u001b[0;34m/\u001b[0m\u001b[0mn_total_patmat_obj\u001b[0m\u001b[0;34m)\u001b[0m\u001b[0;34m\u001b[0m\u001b[0m\n",
      "\u001b[0;31mZeroDivisionError\u001b[0m: division by zero"
     ]
    }
   ],
   "source": [
    "print(n_correct_color_obj/n_total_color_obj)\n",
    "print(n_correct_type_obj/n_total_type_obj)\n",
    "print(n_correct_patmat_obj/n_total_patmat_obj)\n"
   ]
  },
  {
   "cell_type": "code",
   "execution_count": null,
   "id": "43ad7a7f",
   "metadata": {},
   "outputs": [],
   "source": [
    "# pattern : 0.612\n",
    "# type : 0.605\n",
    "# color : 0.274\n",
    "\n",
    "# color50 : 0.254"
   ]
  },
  {
   "cell_type": "code",
   "execution_count": null,
   "id": "e97ad85e",
   "metadata": {},
   "outputs": [],
   "source": [
    "# color \n",
    "# total: 53281\n",
    "# correct: 14622\n",
    "\n",
    "# color50\n",
    "# total: 53281\n",
    "# correct: 13555\n"
   ]
  },
  {
   "cell_type": "code",
   "execution_count": 56,
   "id": "e4f17261",
   "metadata": {},
   "outputs": [
    {
     "name": "stdout",
     "output_type": "stream",
     "text": [
      "grey\t0.52\n",
      "black\t0.53\n",
      "green\t0.59\n",
      "violet\t0.08\n",
      "blue\t0.36\n",
      "purple\t0.62\n",
      "pink\t0.1\n",
      "dark grey\t0.15\n",
      "white\t0.41\n",
      "red\t0.29\n",
      "dark green\t0.14\n",
      "wooden\t0.33\n",
      "light grey\t0.0\n",
      "dark blue\t0.01\n",
      "dirty grey\t0.11\n",
      "brown\t0.01\n",
      "\n",
      "\n",
      "\n",
      "{'grey': [0.52], 'black': [0.53], 'green': [0.59], 'violet': [0.08], 'blue': [0.36], 'purple': [0.62], 'pink': [0.1], 'dark grey': [0.15], 'white': [0.41], 'red': [0.29], 'dark green': [0.14], 'wooden': [0.33], 'light grey': [0.0], 'dark blue': [0.01], 'dirty grey': [0.11], 'brown': [0.01]}\n",
      "\n",
      "{'grey': 4946, 'black': 5111, 'green': 1519, 'violet': 51, 'blue': 2148, 'purple': 578, 'pink': 69, 'dark grey': 49, 'white': 2224, 'red': 349, 'dark green': 70, 'wooden': 793, 'light grey': 3, 'dark blue': 8, 'dirty grey': 5, 'brown': 51}\n",
      "{}\n",
      "{}\n",
      "{'grey': 9471, 'maroon': 638, 'dark brown': 159, 'brown': 7235, 'black': 9565, 'dark blue': 895, 'light grey': 2108, 'green': 2567, 'beige': 333, 'dark green': 516, 'golden': 107, 'purple': 935, 'blue': 5897, 'pink': 662, 'dark grey': 332, 'violet': 616, 'red': 1197, 'dark yellow': 46, 'dark violet': 26, 'olive': 288, 'dark pink': 114, 'light red': 62, 'white': 5482, 'yellow': 335, 'light blue': 769, 'wooden': 2398, 'dirty green': 151, 'orange': 21, 'light pink': 32, 'dark red': 95, 'light orange': 48, 'black and white': 198, 'dirty grey': 47}\n",
      "{}\n",
      "{}\n"
     ]
    }
   ],
   "source": [
    "cold={}\n",
    "for i in color_score_dict.keys():\n",
    "    print(f\"{i}\\t{round(color_score_dict[i]/color_total_dict[i],2)}\")\n",
    "    cold[i]=[round(color_score_dict[i]/color_total_dict[i],2)]\n",
    "print()\n",
    "patd={}\n",
    "for i in patmat_score_dict.keys():\n",
    "    patd[i]=[round(patmat_score_dict[i]/patmat_total_dict[i],2)]\n",
    "    print(f\"{i}\\t{round(patmat_score_dict[i]/patmat_total_dict[i],2)}\")\n",
    "print()\n",
    "typd={}\n",
    "for i in type_score_dict.keys():\n",
    "    typd[i]=[round(type_score_dict[i]/type_total_dict[i],2)]\n",
    "    print(f\"{i}\\t{round(type_score_dict[i]/type_total_dict[i],2)}\")\n",
    "print()\n",
    "print(cold)\n",
    "\n",
    "    \n",
    "print()\n",
    "print(color_score_dict)\n",
    "print(patmat_score_dict)\n",
    "print(type_score_dict)\n",
    "\n",
    "print(color_total_dict)\n",
    "print(patmat_total_dict)\n",
    "print(type_total_dict)"
   ]
  },
  {
   "cell_type": "code",
   "execution_count": null,
   "id": "fde82956",
   "metadata": {},
   "outputs": [],
   "source": []
  }
 ],
 "metadata": {
  "kernelspec": {
   "display_name": "dstc_cyj",
   "language": "python",
   "name": "dstc_cyj"
  },
  "language_info": {
   "codemirror_mode": {
    "name": "ipython",
    "version": 3
   },
   "file_extension": ".py",
   "mimetype": "text/x-python",
   "name": "python",
   "nbconvert_exporter": "python",
   "pygments_lexer": "ipython3",
   "version": "3.7.0"
  }
 },
 "nbformat": 4,
 "nbformat_minor": 5
}
